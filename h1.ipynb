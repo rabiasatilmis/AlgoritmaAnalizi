In [14]:
def myf_2(l =[4,-3,5,-2,-1,2,6,-2]):
    n=len(l)
    maxSum=0
    s=0
    for i in range(n):
        t=0
        for j in range(i,n):
            t=t+l[j]
            s=s+1
        if t>maxSum:
            maxSum=t
    return maxSum,s
In [16]:
myf_2()
Out[16]:
(9, 36)
In [18]:
def myf_21(l =[4,-3,5,2,-1,2,6,-2]):
    n=len(l)
    maxSum=0
    s=0
    for i in range(n):
        t=0
        for j in range(i,n):
            t=t+l[j]
            s=s+1
            if t>maxSum:
                i1,i2=i,j
                maxSum=t
    return maxSum ,i1,i2,s
In [19]:
myf_21()
Out[19]:
(15, 0, 6, 36)
In [44]:
def myf_3(l =[4,-3,5,2,-1,2,6,-2]): #listeyi ikiye bölüp sağ ve sağa doğru max Sum bulma
    n=len(l)
    if n==1:
        return l[0]
    else:
        left= l[0:n//2]
        right = l[(n//2):n]
        
        left_sum= myf_3(left)
        right_sum=myf_3(right)
        t=0
        
        centerSum=0
        tempSum_left=0
        for i in range(n//2-1,-1,-1):
            t=t+l[i]
            if t>tempSum_left:
                tempSum_left=t
        tempSum_right=0
        for i in range(n//2,n):
            t=t+l[i]
            if t>tempSum_right:
                tempSum_right=t
        centerSum=tempSum_left+tempSum_right
        return max_of_three(left_sum,right_sum,centerSum)
In [45]:
def max_of_two(a,b):
    if a>b:
        return a
    else:
        return b
def max_of_three(a,b,c):
    return (max_of_two(a,max_of_two(b,c)))
In [46]: myf_3()
Out[46]: 23
