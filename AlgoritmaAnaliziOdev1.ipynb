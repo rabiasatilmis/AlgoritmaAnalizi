{
 "cells": [
  {
   "cell_type": "code",
   "execution_count": null,
   "metadata": {},
   "outputs": [],
   "source": [
    "#RABİA SATILMIŞ 160401013\n",
    "\n",
    "def getModeMedian(list_1):\n",
    "    \n",
    "    n=len(list_1)\n",
    "    \n",
    "    #BUBBLE SORT ISLEMI\n",
    "    list_2=list_1\n",
    "    #Best Case = O(n^2)\n",
    "    #Worst Case = O(n)\n",
    "    #Average Case = O(n^2) \n",
    "    for i in range (n-1,-1,-1):\n",
    "        for j in range(0,i):\n",
    "            if not(list_2[j]<list_2[j+1]):\n",
    "                temp=list_2[j]\n",
    "                list_2[j]=list_2[j+1]\n",
    "                list_2[j+1]=temp\n",
    "                \n",
    "    #MEDIAN BULMA\n",
    "    #Best Case = O(1)\n",
    "    #Worst Case = O(1)\n",
    "    #Average Case = O(1)\n",
    "    if n%2==1:\n",
    "        middle=int(n/2)+1\n",
    "        median=list_2[middle]\n",
    "    else: \n",
    "        middle_1=list_2[int(n/2)]\n",
    "        middle_2=list_2[int(n/2)+1]\n",
    "        median=(middle_1+middle_2)/2\n",
    "    \n",
    "    list_3=list_1\n",
    "    sorted(list_3)\n",
    "    \n",
    "    #Liste elemanlarının frekans değerlerini bulma\n",
    "    frequency_dict={}\n",
    "    #Best Case = O(n)\n",
    "    #Worst Case = O(n)\n",
    "    #Average Case = O(n)\n",
    "    for item in list_3:\n",
    "        if (item in frequency_dict):\n",
    "            frequency_dict[item]=frequency_dict[item]+1\n",
    "        else:\n",
    "            frequency_dict[item]=1\n",
    "    \n",
    "    #MODE DEGERINI BULMA\n",
    "    frequency_max=-1\n",
    "    mode=-1\n",
    "    #Best Case = O(1)\n",
    "    #Worst Case = O(n)\n",
    "    #Average Case = O(n)\n",
    "    for key in frequency_dict.keys():\n",
    "        if frequency_dict[key]>frequency_max:\n",
    "            frequency_max=frequency_dict[key]\n",
    "            mode=key\n",
    "   \n",
    "    return mode,median"
   ]
  }
 ],
 "metadata": {
  "kernelspec": {
   "display_name": "Python 2",
   "language": "python",
   "name": "python2"
  },
  "language_info": {
   "codemirror_mode": {
    "name": "ipython",
    "version": 2
   },
   "file_extension": ".py",
   "mimetype": "text/x-python",
   "name": "python",
   "nbconvert_exporter": "python",
   "pygments_lexer": "ipython2",
   "version": "2.7.16"
  }
 },
 "nbformat": 4,
 "nbformat_minor": 2
}
