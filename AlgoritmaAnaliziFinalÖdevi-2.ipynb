{
 "cells": [
  {
   "cell_type": "code",
   "execution_count": 2,
   "metadata": {},
   "outputs": [
    {
     "data": {
      "text/plain": [
       "[2, 7, 5, 2, 8, 10, 9, 5, 7, 1]"
      ]
     },
     "execution_count": 2,
     "metadata": {},
     "output_type": "execute_result"
    }
   ],
   "source": [
    "import random\n",
    "\n",
    "def vektorOlustur(n):\n",
    "    vektor = []\n",
    "    #döngü içerisinde random bir sayı belirlenerek listeye eklenir.\n",
    "    #bu işlem n kez gerçekleştirilir. \n",
    "    for i in range(n):\n",
    "        vektor.append(random.randint(1,10))\n",
    "    return vektor\n",
    "\n",
    "\n",
    "vektorOlustur(10)"
   ]
  },
  {
   "cell_type": "code",
   "execution_count": 3,
   "metadata": {},
   "outputs": [],
   "source": [
    "def skalerCarpim(V1, V2):\n",
    "    #m ve n değişkenlerine liste boyutları atanıyor.\n",
    "    m=len(V1)\n",
    "    n=len(V2)\n",
    "    sonuc = 0\n",
    "    #skaler çarpım yapılabilmesi m==n olmalıdır.\n",
    "    if(m == n):\n",
    "        for i in range(m):\n",
    "            #listelerin elemanları birbirleriyle çarpılıyor\n",
    "            sonuc = sonuc + V1[i] * V2[i]\n",
    "        print(sonuc)\n",
    "    else:\n",
    "        print(\"Vektör boyutları eşit değil.\")"
   ]
  },
  {
   "cell_type": "code",
   "execution_count": 6,
   "metadata": {},
   "outputs": [],
   "source": [
    "vektor1=vektorOlustur(4)\n",
    "vektor2=vektorOlustur(4)"
   ]
  },
  {
   "cell_type": "code",
   "execution_count": 7,
   "metadata": {},
   "outputs": [
    {
     "name": "stdout",
     "output_type": "stream",
     "text": [
      "129\n"
     ]
    }
   ],
   "source": [
    "skalerCarpim(vektor1, vektor2)"
   ]
  },
  {
   "cell_type": "code",
   "execution_count": 8,
   "metadata": {},
   "outputs": [],
   "source": [
    "#m tane n elemanlı liste oluşturup matris'e eklememiz gerekiyor.\n",
    "def matrisOlustur(m, n):\n",
    "    matris = []\n",
    "    for i in range (m):\n",
    "        #n elemanlı liste oluşturuluyor.\n",
    "        vektor=vektorOlustur(n)\n",
    "        #oluşturulan liste matris'e ekleniyor.\n",
    "        matris.append(vektor)\n",
    "    return matris"
   ]
  },
  {
   "cell_type": "code",
   "execution_count": 27,
   "metadata": {},
   "outputs": [],
   "source": [
    "def matrisCarpim(m1, m2):\n",
    "    # m1 matrisinin satir ve sutun degerleri\n",
    "    satir_1=len(m1)\n",
    "    sutun_1=len(m1[0])\n",
    "    # m2 matrisinin satir ve sutun degerleri\n",
    "    satir_2=len(m2)\n",
    "    sutun_2=len(m2[0])\n",
    "    carpimMatrisi = []\n",
    "    gecicidizi = []\n",
    "    toplam=0\n",
    "    # if ile carpim matrisinin kuralı kontrolu\n",
    "    if(sutun_1 == satir_2):\n",
    "        #matris carpim islemleri\n",
    "        for i in range (satir_1):\n",
    "            for j in range (sutun_2):\n",
    "                for k in range (sutun_1):\n",
    "                    toplam = toplam + m1[i][k] * m2[k][j]\n",
    "                gecicidizi.append(toplam)\n",
    "                toplam=0\n",
    "            carpimMatrisi.append(gecicidizi)\n",
    "            gecicidizi=[]\n",
    "    else:\n",
    "        print(\"Matris boyutları çarpma işlemi için uygun değildir.\") \n",
    "    return carpimMatrisi "
   ]
  },
  {
   "cell_type": "code",
   "execution_count": 28,
   "metadata": {},
   "outputs": [
    {
     "data": {
      "text/plain": [
       "[[140, 89], [106, 81]]"
      ]
     },
     "execution_count": 28,
     "metadata": {},
     "output_type": "execute_result"
    }
   ],
   "source": [
    "A=matrisOlustur(2,3)\n",
    "B=matrisOlustur(3,2)\n",
    "\n",
    "matrisCarpim(A,B)"
   ]
  },
  {
   "cell_type": "code",
   "execution_count": 29,
   "metadata": {},
   "outputs": [],
   "source": [
    "def carpim(m1,m2,m3,m4,m5):\n",
    "    # sırasıyla matrisler carpiliyor.\n",
    "    s1=matrisCarpim(m1,m2)\n",
    "    s2=matrisCarpim(s1,m3)\n",
    "    s3=matrisCarpim(s2,m4)\n",
    "    s4=matrisCarpim(s3,m5)    \n",
    "    \n",
    "    return s4"
   ]
  },
  {
   "cell_type": "code",
   "execution_count": 30,
   "metadata": {},
   "outputs": [
    {
     "data": {
      "text/plain": [
       "[[18560], [41760]]"
      ]
     },
     "execution_count": 30,
     "metadata": {},
     "output_type": "execute_result"
    }
   ],
   "source": [
    "a1=matrisOlustur(2,1)\n",
    "a2=matrisOlustur(1,2)\n",
    "a3=matrisOlustur(2,1)\n",
    "a4=matrisOlustur(1,2)\n",
    "a5=matrisOlustur(2,1)\n",
    "\n",
    "carpim(a1,a2,a3,a4,a5)"
   ]
  },
  {
   "cell_type": "code",
   "execution_count": null,
   "metadata": {},
   "outputs": [],
   "source": []
  }
 ],
 "metadata": {
  "kernelspec": {
   "display_name": "Python 2",
   "language": "python",
   "name": "python2"
  },
  "language_info": {
   "codemirror_mode": {
    "name": "ipython",
    "version": 2
   },
   "file_extension": ".py",
   "mimetype": "text/x-python",
   "name": "python",
   "nbconvert_exporter": "python",
   "pygments_lexer": "ipython2",
   "version": "2.7.16"
  }
 },
 "nbformat": 4,
 "nbformat_minor": 2
}
