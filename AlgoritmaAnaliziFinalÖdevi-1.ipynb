{
 "cells": [
  {
   "cell_type": "code",
   "execution_count": 20,
   "metadata": {},
   "outputs": [],
   "source": [
    "import random\n",
    "harfler=[\"a\",\"b\",\"c\",\"d\",\"e\",\"f\",\"g\",\"h\",\"i\",\"j\",\"k\",\"l\",\"m\",\"n\",\"o\",\"p\",\"r\",\"s\",\"t\",\"u\",\"v\",\"y\",\"z\"]"
   ]
  },
  {
   "cell_type": "code",
   "execution_count": 21,
   "metadata": {},
   "outputs": [],
   "source": [
    "def matrisOlustur(m,n):\n",
    "    gecici = []\n",
    "    matris = []\n",
    "    # for döngülerinde n elemanlı m adet gecici dizi olusturuluyor.\n",
    "    #olusturulan her gecici dizi matris'e ekleniyor.\n",
    "    for i in range (m):\n",
    "        for j in range(n):\n",
    "            gecici.append(random.sample(harfler,1))\n",
    "        matris.append(gecici)\n",
    "        gecici = []\n",
    "    return matris"
   ]
  },
  {
   "cell_type": "code",
   "execution_count": 22,
   "metadata": {},
   "outputs": [
    {
     "data": {
      "text/plain": [
       "[[['f'], ['c'], ['s'], ['n'], ['d']],\n",
       " [['h'], ['e'], ['s'], ['t'], ['l']],\n",
       " [['h'], ['m'], ['d'], ['t'], ['i']],\n",
       " [['z'], ['o'], ['h'], ['v'], ['u']],\n",
       " [['g'], ['g'], ['h'], ['a'], ['v']]]"
      ]
     },
     "execution_count": 22,
     "metadata": {},
     "output_type": "execute_result"
    }
   ],
   "source": [
    "matrisOlustur(5,5)"
   ]
  },
  {
   "cell_type": "code",
   "execution_count": 23,
   "metadata": {},
   "outputs": [],
   "source": [
    "def matrisDegistir(satir,sutun,my_word,orientation):\n",
    "    uzunluk=len(my_word)\n",
    "    k=0\n",
    "    if(orientation == 0):#soldan saga\n",
    "        for i in range (sutun, -1, -1):\n",
    "            matris[satir][i]=my_word[k]\n",
    "            k=k+1\n",
    "            if (k == uzunluk):\n",
    "                break\n",
    "    elif (orientation == 1):#sagdan sola\n",
    "        for i in range (sutun, len(matris[0]),+1):\n",
    "            matris[satir][i]=my_word[k]\n",
    "            k=k+1\n",
    "            if (k == uzunluk):\n",
    "                break\n",
    "    elif (orientation == 2):#asagidan yukariya\n",
    "        for i in range (satir, -1,-1):\n",
    "            matris[i][sutun]=my_word[k]\n",
    "            k=k+1\n",
    "            if (k == uzunluk):\n",
    "                break\n",
    "    elif (orientation == 3):#yukaridan asagiya\n",
    "        for i in range (satir, len(matris),+1):\n",
    "            matris[i][sutun]=my_word[k]\n",
    "            k=k+1\n",
    "            if (k == uzunluk):\n",
    "                break\n",
    "    else: \n",
    "        print(\"orientation degeri hatali!\")\n",
    "    return matris\n"
   ]
  },
  {
   "cell_type": "code",
   "execution_count": 24,
   "metadata": {},
   "outputs": [
    {
     "name": "stdout",
     "output_type": "stream",
     "text": [
      "[[['d'], ['m'], ['d'], ['t'], ['u'], ['s']], [['z'], ['v'], ['v'], ['g'], ['j'], ['d']], [['n'], ['f'], ['g'], ['a'], ['i'], ['i']], [['v'], ['f'], ['i'], ['m'], ['m'], ['d']], [['p'], ['y'], ['a'], ['d'], ['y'], ['a']], [['b'], ['i'], ['c'], ['y'], ['c'], ['i']]]\n"
     ]
    },
    {
     "data": {
      "text/plain": [
       "[[['d'], 'c', ['d'], ['t'], ['u'], ['s']],\n",
       " [['z'], 'a', ['v'], ['g'], ['j'], ['d']],\n",
       " [['n'], 'n', ['g'], ['a'], ['i'], ['i']],\n",
       " [['v'], 'a', ['i'], ['m'], ['m'], ['d']],\n",
       " [['p'], 'k', ['a'], ['d'], ['y'], ['a']],\n",
       " [['b'], 'k', ['c'], ['y'], ['c'], ['i']]]"
      ]
     },
     "execution_count": 24,
     "metadata": {},
     "output_type": "execute_result"
    }
   ],
   "source": [
    "matris=matrisOlustur(6,6)\n",
    "print(matris)\n",
    "matrisDegistir(0,1,\"canakkale\",3)"
   ]
  },
  {
   "cell_type": "code",
   "execution_count": 25,
   "metadata": {},
   "outputs": [
    {
     "name": "stdout",
     "output_type": "stream",
     "text": [
      "[[['z'], ['u'], ['t'], ['p'], ['y']], [['s'], ['i'], ['a'], ['l'], ['f']], [['m'], ['h'], ['b'], ['s'], ['d']], [['s'], ['f'], ['c'], ['d'], ['b']], [['a'], ['k'], ['k'], ['g'], ['o']]]\n"
     ]
    }
   ],
   "source": [
    "matris=matrisOlustur(5,5)\n",
    "print(matris)"
   ]
  },
  {
   "cell_type": "code",
   "execution_count": 26,
   "metadata": {},
   "outputs": [
    {
     "data": {
      "text/plain": [
       "[[['z'], ['u'], ['t'], ['p'], ['y']],\n",
       " [['s'], ['i'], ['a'], ['l'], ['f']],\n",
       " ['i', 's', 't', 'a', 'n'],\n",
       " [['s'], ['f'], ['c'], ['d'], ['b']],\n",
       " [['a'], ['k'], ['k'], ['g'], ['o']]]"
      ]
     },
     "execution_count": 26,
     "metadata": {},
     "output_type": "execute_result"
    }
   ],
   "source": [
    "matrisDegistir(2,0,\"istanbul\",1)"
   ]
  },
  {
   "cell_type": "code",
   "execution_count": 27,
   "metadata": {},
   "outputs": [
    {
     "name": "stdout",
     "output_type": "stream",
     "text": [
      "[[['t'], ['l'], ['p'], ['k'], ['s']], [['e'], ['f'], ['e'], ['p'], ['b']], [['z'], ['a'], ['a'], ['m'], ['i']], [['t'], ['f'], ['y'], ['v'], ['o']], [['b'], ['s'], ['a'], ['o'], ['p']]]\n"
     ]
    }
   ],
   "source": [
    "matris=matrisOlustur(5,5)\n",
    "print(matris)"
   ]
  },
  {
   "cell_type": "code",
   "execution_count": 28,
   "metadata": {},
   "outputs": [
    {
     "data": {
      "text/plain": [
       "[['r', 'a', 'k', 'n', 'a'],\n",
       " [['e'], ['f'], ['e'], ['p'], ['b']],\n",
       " [['z'], ['a'], ['a'], ['m'], ['i']],\n",
       " [['t'], ['f'], ['y'], ['v'], ['o']],\n",
       " [['b'], ['s'], ['a'], ['o'], ['p']]]"
      ]
     },
     "execution_count": 28,
     "metadata": {},
     "output_type": "execute_result"
    }
   ],
   "source": [
    "matrisDegistir(0,4,\"ankara\",0)"
   ]
  },
  {
   "cell_type": "code",
   "execution_count": 29,
   "metadata": {},
   "outputs": [
    {
     "name": "stdout",
     "output_type": "stream",
     "text": [
      "[[['m'], ['i'], ['y'], ['c'], ['u']], [['m'], ['l'], ['v'], ['j'], ['i']], [['m'], ['p'], ['e'], ['g'], ['i']], [['j'], ['z'], ['i'], ['i'], ['s']], [['m'], ['o'], ['f'], ['s'], ['j']]]\n"
     ]
    }
   ],
   "source": [
    "matris=matrisOlustur(5,5)\n",
    "print(matris)"
   ]
  },
  {
   "cell_type": "code",
   "execution_count": 30,
   "metadata": {},
   "outputs": [
    {
     "data": {
      "text/plain": [
       "[[['m'], ['i'], ['y'], ['c'], 'a'],\n",
       " [['m'], ['l'], ['v'], ['j'], 'v'],\n",
       " [['m'], ['p'], ['e'], ['g'], 'i'],\n",
       " [['j'], ['z'], ['i'], ['i'], 's'],\n",
       " [['m'], ['o'], ['f'], ['s'], ['j']]]"
      ]
     },
     "execution_count": 30,
     "metadata": {},
     "output_type": "execute_result"
    }
   ],
   "source": [
    "matrisDegistir(3,4,\"sivas\",2)"
   ]
  },
  {
   "cell_type": "code",
   "execution_count": null,
   "metadata": {},
   "outputs": [],
   "source": []
  }
 ],
 "metadata": {
  "kernelspec": {
   "display_name": "Python 2",
   "language": "python",
   "name": "python2"
  },
  "language_info": {
   "codemirror_mode": {
    "name": "ipython",
    "version": 2
   },
   "file_extension": ".py",
   "mimetype": "text/x-python",
   "name": "python",
   "nbconvert_exporter": "python",
   "pygments_lexer": "ipython2",
   "version": "2.7.16"
  }
 },
 "nbformat": 4,
 "nbformat_minor": 2
}
